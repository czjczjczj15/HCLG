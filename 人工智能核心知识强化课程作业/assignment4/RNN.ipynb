{
  "nbformat": 4,
  "nbformat_minor": 0,
  "metadata": {
    "colab": {
      "name": "RNN.ipynb",
      "provenance": [],
      "collapsed_sections": [],
      "toc_visible": true
    },
    "kernelspec": {
      "name": "python3",
      "display_name": "Python 3"
    },
    "accelerator": "GPU"
  },
  "cells": [
    {
      "cell_type": "markdown",
      "metadata": {
        "id": "KsMACU0yzJGN",
        "colab_type": "text"
      },
      "source": [
        "# 常用的文本分类方法都有哪些: \n",
        "\n",
        "## 1.传统方法：\n",
        "\n",
        "### 1.1 预处理：\n",
        "\n",
        "-基于字符串匹配的正向/逆向/双向最大匹：这是一种基于词典的中文分词，核心是首先建立统一的词典表，当需要对一个句子进行分词时，首先将句子拆分成多个部分，将每一个部分与字典一一对应，如果该词语在词典中，分词成功，否则继续拆分匹配直到成功。\n",
        "\n",
        "-基于理解的句法和语义分析消: 它通常包括三个部分：分词子系统、句法语义子系统、总控部分。在总控部分的协调下，分词子系统可以获得有关词、句子等的句法和语义信息来对分词歧义进行判断，即它模拟了人对句子的理解过程。\n",
        "\n",
        "-基于统计的互信息/CRF方法：即拆分句子，基于语料库，统计相邻的字组成的词语出现的概率，相邻的词出现的次数多，就出现的概率大，按照概率值进行分词，所以一个完整的语料库很重要。主要的统计模型有： N元文法模型（N-gram），隐马尔可夫模型（Hidden Markov Model ，HMM），最大熵模型（ME），条件随机场模型（Conditional Random Fields，CRF）等。\n",
        "\n",
        "### 1.2 特征提取：\n",
        "向量空间模型的文本表示方法的特征提取对应特征项的选择和特征权重计算两部分。特征选择的基本思路是根据某个评价指标独立的对原始特征项（词项）进行评分排序，从中选择得分最高的一些特征项，过滤掉其余的特征项。常用的评价有文档频率、互信息、信息增益、χ²统计量等。特征权重主要是经典的TF-IDF方法及其扩展方法，主要思路是一个词的重要度与在类别内的词频成正比，与所有类别出现的次数成反比。\n",
        "\n",
        "### 1.3 文本表示\n",
        "文本表示的目的是把文本预处理后的转换成计算机可理解的方式，是决定文本分类质量最重要的部分。传统做法常用词袋模型（BOW, Bag Of Words）或向量空间模型（Vector Space Model），最大的不足是忽略文本上下文关系，每个词之间彼此独立，并且无法表征语义信息。词袋模型的示例如下：( 0, 0, 0, 0, .... , 1, ... 0, 0, 0, 0)   一般来说词库量至少都是百万级别，因此词袋模型有个两个最大的问题：高纬度、高稀疏性。词袋模型是向量空间模型的基础，因此向量空间模型通过特征项选择降低维度，通过特征权重计算增加稠密性。\n",
        "\n",
        "传统做法在文本表示方面除了向量空间模型，还有基于语义的文本表示方法，比如LDA主题模型、LSI/PLSI概率潜在语义索引等方法，一般认为这些方法得到的文本表示可以认为文档的深层表示，而word embedding文本分布式表示方法则是深度学习方法的重要基础。\n",
        "\n",
        "### 1.4 机器学习分类器\n",
        "将文本表示为模型可以处理的向量数据后，就可以使用机器学习模型来进行处理，常用的模型有：朴素贝叶斯，KNN方法，决策树，支持向量机，GBDT/XGBOOST\n",
        "\n",
        "# 2.深度学习方法：\n",
        "深度学习文本分类方法的模型有：\n",
        "\n",
        "1）fastText\n",
        "\n",
        "2）TextCNN\n",
        "\n",
        "3）TextRNN\n",
        "\n",
        "4）TextRNN + Attention\n",
        "\n",
        "5）TextRCNN\n",
        "\n",
        "引用：\n",
        "\n",
        "1.https://zhuanlan.zhihu.com/p/76003775\n",
        "\n",
        "2.https://www.cnblogs.com/sxron/articles/7742692.html"
      ]
    },
    {
      "cell_type": "markdown",
      "metadata": {
        "id": "1r4Yg0oM-jPH",
        "colab_type": "text"
      },
      "source": [
        "# RNN为什么会出现梯度消失"
      ]
    },
    {
      "cell_type": "code",
      "metadata": {
        "id": "-nCHw_Tn-edZ",
        "colab_type": "code",
        "colab": {
          "base_uri": "https://localhost:8080/",
          "height": 253
        },
        "outputId": "82f49754-fbb6-4393-e3c3-8644ab98680e"
      },
      "source": [
        "from IPython.display import Image\n",
        "Image(filename=\"drive/My Drive/HCLG/lesson4/1.png\")"
      ],
      "execution_count": 30,
      "outputs": [
        {
          "output_type": "execute_result",
          "data": {
            "image/png": "[encoded data removed]",
            "text/plain": [
              "<IPython.core.display.Image object>"
            ]
          },
          "metadata": {
            "tags": []
          },
          "execution_count": 30
        }
      ]
    },
    {
      "cell_type": "markdown",
      "metadata": {
        "id": "70k5bFDPzRQb",
        "colab_type": "text"
      },
      "source": [
        "因为有连乘那一项，所以随着时间的推移，那一项的梯度可能会很小，导致整个式子的梯度值很小。\n",
        "\n",
        "\n",
        "\n",
        "\n",
        "\n"
      ]
    },
    {
      "cell_type": "code",
      "metadata": {
        "id": "qrq7irMzy_UQ",
        "colab_type": "code",
        "colab": {}
      },
      "source": [
        ""
      ],
      "execution_count": 0,
      "outputs": []
    },
    {
      "cell_type": "code",
      "metadata": {
        "id": "MLJ1mxg8mtwW",
        "colab_type": "code",
        "colab": {}
      },
      "source": [
        "# !pip install tensorflow_gpu==1.15\n",
        "import torch\n",
        "import sys\n",
        "# mount google drive\n",
        "!cp 'drive/My Drive/HCLG/lesson4/model.py' .\n",
        "!cp 'drive/My Drive/HCLG/lesson4/cnews_loader.py' .\n",
        "!cp 'drive/My Drive/HCLG/lesson4/data_batch.py' .\n",
        "!cp 'drive/My Drive/HCLG/lesson4/test.py' .\n",
        "!cp 'drive/My Drive/HCLG/lesson4/train_sampling.py' .\n",
        "!cp 'drive/My Drive/HCLG/lesson4/cnews.train.txt' .\n",
        "!cp 'drive/My Drive/HCLG/lesson4/cnews.test.txt' .\n",
        "!cp 'drive/My Drive/HCLG/lesson4/cnews.val.txt' .\n",
        "!cp 'drive/My Drive/HCLG/lesson4/cnews.vocab.txt' .\n",
        "# !cp 'drive/My Drive/HCLG/lesson4/train_sampling.py' .\n",
        "from torch import nn\n",
        "from torch import optim\n",
        "import torch.utils.data as Data\n",
        "import numpy as np\n",
        "from model import TextRNN\n",
        "# process_file把文本截断\n",
        "from cnews_loader import read_category, read_vocab, process_file\n",
        "\n",
        "train_file = 'drive/My Drive/HCLG/lesson4/cnews.train.txt'\n",
        "test_file = 'drive/My Drive/HCLG/lesson4/cnews.test.txt'\n",
        "val_file = 'drive/My Drive/HCLG/lesson4/cnews.val.txt'\n",
        "vocab_file = 'drive/My Drive/HCLG/lesson4/cnews.vocab.txt'"
      ],
      "execution_count": 0,
      "outputs": []
    },
    {
      "cell_type": "code",
      "metadata": {
        "id": "i-KRF8d_UHwM",
        "colab_type": "code",
        "outputId": "4e9e62a1-de62-4857-ca16-0e7576ddd337",
        "colab": {
          "base_uri": "https://localhost:8080/",
          "height": 235
        }
      },
      "source": [
        "print(TextRNN())"
      ],
      "execution_count": 0,
      "outputs": [
        {
          "output_type": "stream",
          "text": [
            "TextRNN(\n",
            "  (embedding): Embedding(5000, 64)\n",
            "  (rnn): GRU(64, 128, bidirectional=True)\n",
            "  (f1): Sequential(\n",
            "    (0): Linear(in_features=256, out_features=128, bias=True)\n",
            "    (1): Dropout(p=0.2, inplace=False)\n",
            "    (2): ReLU()\n",
            "  )\n",
            "  (f2): Sequential(\n",
            "    (0): Linear(in_features=128, out_features=10, bias=True)\n",
            "    (1): Softmax(dim=None)\n",
            "  )\n",
            ")\n"
          ],
          "name": "stdout"
        }
      ]
    },
    {
      "cell_type": "code",
      "metadata": {
        "id": "tXMurUq9UfpN",
        "colab_type": "code",
        "colab": {}
      },
      "source": [
        "# from google.colab import drive\n",
        "# drive.mount('/content/drive')"
      ],
      "execution_count": 0,
      "outputs": []
    },
    {
      "cell_type": "code",
      "metadata": {
        "id": "v_xd2W8iySSJ",
        "colab_type": "code",
        "outputId": "3dd254f9-932c-407b-848b-02f665381bd8",
        "colab": {
          "base_uri": "https://localhost:8080/",
          "height": 34
        }
      },
      "source": [
        "categories, cat_to_id = read_category()\n",
        "print(categories)\n",
        "words, word_to_id = read_vocab('cnews.vocab.txt')\n",
        "# print(words)\n",
        "vocab_size = len(words)\n",
        "\n",
        "x_train, y_train = process_file('cnews.train.txt', word_to_id, cat_to_id, 600)\n",
        "x_val, y_val = process_file('cnews.val.txt', word_to_id, cat_to_id, 600)\n",
        "\n",
        "# 先把数据给转换成tensor类型\n",
        "x_train, y_train = torch.LongTensor(x_train), torch.Tensor(y_train)\n",
        "x_val, y_val = torch.LongTensor(x_val), torch.Tensor(y_val)\n",
        "\n",
        "#定义分配\n",
        "train_dataset = Data.TensorDataset(x_train, y_train)\n",
        "train_loader = Data.DataLoader(dataset = train_dataset, batch_size = 100,\n",
        "                               shuffle = True, num_workers = 2)\n",
        "val_dataset = Data.TensorDataset(x_val, y_val)\n",
        "val_loader = Data.DataLoader(dataset = val_dataset, batch_size = 100,\n",
        "                               shuffle = True, num_workers = 2)"
      ],
      "execution_count": 31,
      "outputs": [
        {
          "output_type": "stream",
          "text": [
            "['体育', '财经', '房产', '家居', '教育', '科技', '时尚', '时政', '游戏', '娱乐']\n"
          ],
          "name": "stdout"
        }
      ]
    },
    {
      "cell_type": "code",
      "metadata": {
        "id": "AsxMY4j2jtN-",
        "colab_type": "code",
        "colab": {}
      },
      "source": [
        "def train():\n",
        "    #用cuda开启GPU训练\n",
        "    model = TextRNN().cuda()\n",
        "    # 定义损失函数\n",
        "    Loss = nn.MultiLabelSoftMarginLoss()\n",
        "    optimizer = optim.Adam(model.parameters(), lr  = 0.001)\n",
        "    best_val_acc = 0\n",
        "\n",
        "    for epoch in range(1000):\n",
        "        print('epoch=', epoch)\n",
        "        for step, (x_batch, y_batch) in enumerate(train_loader):\n",
        "            x = x_batch.cuda()\n",
        "            y = y_batch.cuda()\n",
        "            out = model(x)\n",
        "            loss = Loss(out,y)\n",
        "            # print('loss=', loss)\n",
        "            # 反向传播第一步，清空数据\n",
        "            optimizer.zero_grad()\n",
        "            loss.backward()\n",
        "            optimizer.step()\n",
        "            # 计算准确率\n",
        "            accuracy = np.mean((torch.argmax(out, 1) == torch.argmax(y, 1)).cpu().numpy())\n",
        "            # print(accuracy)\n",
        "\n",
        "            #对模型进行验证\n",
        "            if epoch == 0:\n",
        "                torch.save(model.state_dict(), 'drive/My Drive/HCLG/lesson4/model_2_params_epoch_'+str(epoch) +'.pkl')\n",
        "            if (epoch+1)%5 == 0:\n",
        "                for step, (x_batch, y_batch) in enumerate(val_loader):\n",
        "                    x = x_batch.cuda()\n",
        "                    y = y_batch.cuda()\n",
        "                    out = model(x) \n",
        "\n",
        "                    # 计算准确率\n",
        "                    accuracy = np.mean((torch.argmax(out, 1) == torch.argmax(y, 1)).cpu().numpy())\n",
        "                    \n",
        "                    if accuracy > best_val_acc:\n",
        "                        torch.save(model.state_dict(), 'drive/My Drive/HCLG/lesson4/model_2_params_epoch_'+str(epoch) +'.pkl')\n",
        "                        best_val_acc = accuracy\n",
        "                        print(accuracy)\n",
        "                        "
      ],
      "execution_count": 0,
      "outputs": []
    },
    {
      "cell_type": "code",
      "metadata": {
        "id": "_SBH3TTXj-uE",
        "colab_type": "code",
        "colab": {}
      },
      "source": [
        ""
      ],
      "execution_count": 0,
      "outputs": []
    },
    {
      "cell_type": "code",
      "metadata": {
        "id": "pS0sfmPUj-zm",
        "colab_type": "code",
        "outputId": "c7c7f902-71f4-4011-8bbd-108b2a1e20e0",
        "colab": {
          "base_uri": "https://localhost:8080/",
          "height": 1000
        }
      },
      "source": [
        "train()"
      ],
      "execution_count": 0,
      "outputs": [
        {
          "output_type": "stream",
          "text": [
            "epoch= 0\n"
          ],
          "name": "stdout"
        },
        {
          "output_type": "stream",
          "text": [
            "/usr/local/lib/python3.6/dist-packages/torch/nn/modules/container.py:100: UserWarning: Implicit dimension choice for softmax has been deprecated. Change the call to include dim=X as an argument.\n",
            "  input = module(input)\n"
          ],
          "name": "stderr"
        },
        {
          "output_type": "stream",
          "text": [
            "epoch= 1\n",
            "epoch= 2\n",
            "epoch= 3\n",
            "epoch= 4\n",
            "0.36\n",
            "0.47\n",
            "0.5\n",
            "0.53\n",
            "0.54\n",
            "0.55\n",
            "epoch= 5\n",
            "epoch= 6\n",
            "epoch= 7\n",
            "epoch= 8\n",
            "epoch= 9\n",
            "0.56\n",
            "0.6\n",
            "epoch= 10\n",
            "epoch= 11\n",
            "epoch= 12\n",
            "epoch= 13\n",
            "epoch= 14\n",
            "epoch= 15\n",
            "epoch= 16\n",
            "epoch= 17\n",
            "epoch= 18\n",
            "epoch= 19\n",
            "epoch= 20\n",
            "epoch= 21\n",
            "epoch= 22\n",
            "epoch= 23\n",
            "epoch= 24\n",
            "epoch= 25\n",
            "epoch= 26\n",
            "epoch= 27\n",
            "epoch= 28\n",
            "epoch= 29\n",
            "epoch= 30\n",
            "epoch= 31\n",
            "epoch= 32\n",
            "epoch= 33\n",
            "epoch= 34\n",
            "epoch= 35\n",
            "epoch= 36\n",
            "epoch= 37\n",
            "epoch= 38\n",
            "epoch= 39\n",
            "epoch= 40\n",
            "epoch= 41\n",
            "epoch= 42\n",
            "epoch= 43\n",
            "epoch= 44\n",
            "epoch= 45\n",
            "epoch= 46\n",
            "epoch= 47\n",
            "epoch= 48\n",
            "epoch= 49\n",
            "epoch= 50\n",
            "epoch= 51\n",
            "epoch= 52\n",
            "epoch= 53\n",
            "epoch= 54\n",
            "epoch= 55\n",
            "epoch= 56\n",
            "epoch= 57\n",
            "epoch= 58\n",
            "epoch= 59\n",
            "epoch= 60\n",
            "epoch= 61\n",
            "epoch= 62\n",
            "epoch= 63\n",
            "epoch= 64\n"
          ],
          "name": "stdout"
        },
        {
          "output_type": "error",
          "ename": "KeyboardInterrupt",
          "evalue": "ignored",
          "traceback": [
            "\u001b[0;31m---------------------------------------------------------------------------\u001b[0m",
            "\u001b[0;31mKeyboardInterrupt\u001b[0m                         Traceback (most recent call last)",
            "\u001b[0;32m<ipython-input-7-2da0ffaf5447>\u001b[0m in \u001b[0;36m<module>\u001b[0;34m()\u001b[0m\n\u001b[0;32m----> 1\u001b[0;31m \u001b[0mtrain\u001b[0m\u001b[0;34m(\u001b[0m\u001b[0;34m)\u001b[0m\u001b[0;34m\u001b[0m\u001b[0;34m\u001b[0m\u001b[0m\n\u001b[0m",
            "\u001b[0;32m<ipython-input-6-0ec7e1207128>\u001b[0m in \u001b[0;36mtrain\u001b[0;34m()\u001b[0m\n\u001b[1;32m     33\u001b[0m \u001b[0;34m\u001b[0m\u001b[0m\n\u001b[1;32m     34\u001b[0m                     \u001b[0;31m# 计算准确率\u001b[0m\u001b[0;34m\u001b[0m\u001b[0;34m\u001b[0m\u001b[0;34m\u001b[0m\u001b[0m\n\u001b[0;32m---> 35\u001b[0;31m                     \u001b[0maccuracy\u001b[0m \u001b[0;34m=\u001b[0m \u001b[0mnp\u001b[0m\u001b[0;34m.\u001b[0m\u001b[0mmean\u001b[0m\u001b[0;34m(\u001b[0m\u001b[0;34m(\u001b[0m\u001b[0mtorch\u001b[0m\u001b[0;34m.\u001b[0m\u001b[0margmax\u001b[0m\u001b[0;34m(\u001b[0m\u001b[0mout\u001b[0m\u001b[0;34m,\u001b[0m \u001b[0;36m1\u001b[0m\u001b[0;34m)\u001b[0m \u001b[0;34m==\u001b[0m \u001b[0mtorch\u001b[0m\u001b[0;34m.\u001b[0m\u001b[0margmax\u001b[0m\u001b[0;34m(\u001b[0m\u001b[0my\u001b[0m\u001b[0;34m,\u001b[0m \u001b[0;36m1\u001b[0m\u001b[0;34m)\u001b[0m\u001b[0;34m)\u001b[0m\u001b[0;34m.\u001b[0m\u001b[0mcpu\u001b[0m\u001b[0;34m(\u001b[0m\u001b[0;34m)\u001b[0m\u001b[0;34m.\u001b[0m\u001b[0mnumpy\u001b[0m\u001b[0;34m(\u001b[0m\u001b[0;34m)\u001b[0m\u001b[0;34m)\u001b[0m\u001b[0;34m\u001b[0m\u001b[0;34m\u001b[0m\u001b[0m\n\u001b[0m\u001b[1;32m     36\u001b[0m \u001b[0;34m\u001b[0m\u001b[0m\n\u001b[1;32m     37\u001b[0m                     \u001b[0;32mif\u001b[0m \u001b[0maccuracy\u001b[0m \u001b[0;34m>\u001b[0m \u001b[0mbest_val_acc\u001b[0m\u001b[0;34m:\u001b[0m\u001b[0;34m\u001b[0m\u001b[0;34m\u001b[0m\u001b[0m\n",
            "\u001b[0;31mKeyboardInterrupt\u001b[0m: "
          ]
        }
      ]
    },
    {
      "cell_type": "code",
      "metadata": {
        "id": "flWdf0yvlp7y",
        "colab_type": "code",
        "outputId": "94eea02c-6a35-4f74-fd86-f88b313b1800",
        "colab": {
          "base_uri": "https://localhost:8080/",
          "height": 138
        }
      },
      "source": [
        "import tensorflow.contrib.keras as kr\n",
        "import torch\n",
        "from torch import nn\n",
        "from cnews_loader import read_category, read_vocab\n",
        "from model import TextRNN\n",
        "import numpy as np\n",
        "\n",
        "vocab_file = 'cnews.vocab.txt'\n",
        "\n",
        "class RnnModel:\n",
        "    def __init__(self):\n",
        "        self.categories, self.cat_to_id = read_category()\n",
        "        self.words, self.word_to_id = read_vocab(vocab_file)\n",
        "        self.model = TextRNN()\n",
        "        self.model.load_state_dict(torch.load('drive/My Drive/HCLG/lesson4/model_2_params_epoch_9.pkl'))\n",
        " \n",
        "    def predict(self, message):\n",
        "        content = message\n",
        "        data = [self.word_to_id[x] for x in content if x in self.word_to_id]\n",
        "        data = kr.preprocessing.sequence.pad_sequences([data], 600)\n",
        "        data = torch.LongTensor(data)\n",
        "        y_pred_cls = self.model(data)\n",
        "        class_index = torch.argmax(y_pred_cls[0]).item()\n",
        "        return self.categories[class_index]\n",
        " \n",
        " \n",
        "# if __name__ == '__main__':\n",
        "model_test = RnnModel()\n",
        "test_demo = ['《时光重返四十二难》恶搞唐增取经一款时下最热门的动画人物：猪猪侠，加上创新的故事背景，震撼的操作快感，成就了这部恶搞新作，现正恶搞上市，玩家们抢先赶快体验快感吧。游戏简介：被时光隧道传送到208年的猪猪侠，必须经历六七四十二难的考验，才能借助柯伊诺尔大钻石的力量，开启时光隧道，重返2008年。在迷糊老师、菲菲公主的帮助下，猪猪侠接受了挑战，开始了这段充满了关心和情谊的旅程。    更多精彩震撼感觉，立即下载该款游戏尽情体验吧。玩家交流才是王道，讯易游戏玩家交流中心 QQ群：6306852-----------------生活要有激情，游戏要玩多彩(多彩游戏)。Colourfulgame (多彩游戏)，让你看看快乐游戏的颜色！精品推荐：1：《钟馗传》大战无头关羽，悲壮的剧情伴随各朝英灵反攻地府！2：《中华群英》将和赵云，项羽，岳飞等猛将作战，穿越各朝代抗击日寇。良品推荐：1：《赌王争霸之斗地主》易飞会在四角恋中会选择谁？是否最终成赌神呢？2：勇者后裔和魔王紧缠一起，前代恩怨《圣火伏魔录》将为您揭示一切。  3：颠覆传统概念，恶搞+非主流？！誓必弄死搞残为止《爆笑飞行棋》。4：《中国象棋残局大师》快棋和人机模式让畅快对弈！一切“多彩游戏”资讯，点击Colourfulgame官网http://www.colourfulgame.com一切“多彩游戏”感言，交流Colourfulgame论坛http://121.33.203.124/forum/【客服邮箱】：xunyiwangluo@126.com\">xunyiwangluo@126.com\">xunyiwangluo@126.com【客服热线】：020-87588437']\n",
        "\n",
        "for i in test_demo:\n",
        "    print(i)\n",
        "    print('\\n')\n",
        "    print(model_test.predict(i))"
      ],
      "execution_count": 0,
      "outputs": [
        {
          "output_type": "stream",
          "text": [
            "《时光重返四十二难》恶搞唐增取经一款时下最热门的动画人物：猪猪侠，加上创新的故事背景，震撼的操作快感，成就了这部恶搞新作，现正恶搞上市，玩家们抢先赶快体验快感吧。游戏简介：被时光隧道传送到208年的猪猪侠，必须经历六七四十二难的考验，才能借助柯伊诺尔大钻石的力量，开启时光隧道，重返2008年。在迷糊老师、菲菲公主的帮助下，猪猪侠接受了挑战，开始了这段充满了关心和情谊的旅程。    更多精彩震撼感觉，立即下载该款游戏尽情体验吧。玩家交流才是王道，讯易游戏玩家交流中心 QQ群：6306852-----------------生活要有激情，游戏要玩多彩(多彩游戏)。Colourfulgame (多彩游戏)，让你看看快乐游戏的颜色！精品推荐：1：《钟馗传》大战无头关羽，悲壮的剧情伴随各朝英灵反攻地府！2：《中华群英》将和赵云，项羽，岳飞等猛将作战，穿越各朝代抗击日寇。良品推荐：1：《赌王争霸之斗地主》易飞会在四角恋中会选择谁？是否最终成赌神呢？2：勇者后裔和魔王紧缠一起，前代恩怨《圣火伏魔录》将为您揭示一切。  3：颠覆传统概念，恶搞+非主流？！誓必弄死搞残为止《爆笑飞行棋》。4：《中国象棋残局大师》快棋和人机模式让畅快对弈！一切“多彩游戏”资讯，点击Colourfulgame官网http://www.colourfulgame.com一切“多彩游戏”感言，交流Colourfulgame论坛http://121.33.203.124/forum/【客服邮箱】：xunyiwangluo@126.com\">xunyiwangluo@126.com\">xunyiwangluo@126.com【客服热线】：020-87588437\n",
            "\n",
            "\n",
            "游戏\n"
          ],
          "name": "stdout"
        },
        {
          "output_type": "stream",
          "text": [
            "/usr/local/lib/python3.6/dist-packages/torch/nn/modules/container.py:100: UserWarning: Implicit dimension choice for softmax has been deprecated. Change the call to include dim=X as an argument.\n",
            "  input = module(input)\n"
          ],
          "name": "stderr"
        }
      ]
    },
    {
      "cell_type": "markdown",
      "metadata": {
        "id": "TNw2j9iS_C6_",
        "colab_type": "text"
      },
      "source": [
        "可以再修改一下模型的超参数，使得训练的accuracy更高一点。不过即使是0.6， 也可以把上面关于游戏的文字给正确分类出来"
      ]
    },
    {
      "cell_type": "code",
      "metadata": {
        "id": "raE18h0VlT-B",
        "colab_type": "code",
        "colab": {}
      },
      "source": [
        ""
      ],
      "execution_count": 0,
      "outputs": []
    },
    {
      "cell_type": "code",
      "metadata": {
        "id": "JDwYn-4JdE00",
        "colab_type": "code",
        "colab": {}
      },
      "source": [
        ""
      ],
      "execution_count": 0,
      "outputs": []
    }
  ]
}