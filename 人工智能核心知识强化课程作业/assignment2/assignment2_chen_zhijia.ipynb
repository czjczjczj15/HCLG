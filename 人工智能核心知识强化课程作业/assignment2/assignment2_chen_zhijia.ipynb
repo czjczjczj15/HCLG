{
 "cells": [
  {
   "cell_type": "code",
   "execution_count": 39,
   "metadata": {},
   "outputs": [],
   "source": [
    "\"\"\"\n",
    "    使用numpy实现Boston房价预测\n",
    "    Step1 数据加载，来源sklearn中的load_boston\n",
    "    Step2 数据规范化，将X 采用正态分布规范化\n",
    "    Step3 初始化网络\n",
    "    Step4 定义激活函数，损失函数，学习率 epoch\n",
    "    Step5 循环执行：前向传播，计算损失函数，反向传播，参数更新\n",
    "    Step6 输出训练好的model参数，即w1, w2, b1, b2\n",
    "\"\"\" \n",
    "import numpy as np\n",
    "from sklearn.datasets import load_boston\n",
    "from sklearn.utils import shuffle, resample\n",
    "import matplotlib.pyplot as plt\n",
    "np.random.seed(0)"
   ]
  },
  {
   "cell_type": "code",
   "execution_count": 40,
   "metadata": {},
   "outputs": [],
   "source": [
    "# 数据加载\n",
    "data = load_boston()                                            \n",
    "X_ = data['data']                                                \n",
    "y = data['target']                                              \n",
    "# 将y转化为矩阵的形式                                          \n",
    "y = y.reshape(y.shape[0],1)    \n",
    "\n",
    "# 分为train和test集\n",
    "y_test = y[450:]\n",
    "y = y[:450]\n",
    "\n",
    "# 数据规范化\n",
    "# X_ = ((X_ - np.mean(X_, axis=0)) / np.std(X_, axis=0))\n",
    "X_ = ((X_ - np.mean(X_, axis=0)) / np.std(X_, axis=0))\n",
    "\n",
    "# 分为train和test集\n",
    "X_test = X_[450:]\n",
    "X_ = X_[:450]"
   ]
  },
  {
   "cell_type": "code",
   "execution_count": 41,
   "metadata": {},
   "outputs": [
    {
     "name": "stdout",
     "output_type": "stream",
     "text": [
      "(450, 13)\n",
      "(56, 13)\n",
      "(450, 1)\n"
     ]
    }
   ],
   "source": [
    "print(X_.shape)\n",
    "print(X_test.shape)\n",
    "print(y.shape)"
   ]
  },
  {
   "cell_type": "code",
   "execution_count": 42,
   "metadata": {},
   "outputs": [],
   "source": [
    "\"\"\"\n",
    "    初始化网络参数\n",
    "    定义隐藏层维度，w1,b1,w2,b2\n",
    "\"\"\" \n",
    "n_features = X_.shape[1]\n",
    "n_hidden = 10\n",
    "w1 = np.random.randn(n_features, n_hidden)\n",
    "b1 = np.zeros(n_hidden)\n",
    "w2 = np.random.randn(n_hidden, 1)\n",
    "b2 = np.zeros(1)"
   ]
  },
  {
   "cell_type": "code",
   "execution_count": 43,
   "metadata": {},
   "outputs": [],
   "source": [
    "# relu函数\n",
    "def Relu(x):\n",
    "    \"\"\" 这里写你的代码 \"\"\"\n",
    "    y = np.where(x<0,0,x)\n",
    "    return y\n",
    "\n",
    "def relu_gradient(z):\n",
    "    g = np.array([(i>0) for i in z ])\n",
    "    return g"
   ]
  },
  {
   "cell_type": "code",
   "execution_count": 44,
   "metadata": {},
   "outputs": [
    {
     "data": {
      "text/plain": [
       "Text(0, 0.5, 'g')"
      ]
     },
     "execution_count": 44,
     "metadata": {},
     "output_type": "execute_result"
    },
    {
     "data": {
      "image/png": "[encoded data removed]",
      "text/plain": [
       "<Figure size 960x288 with 1 Axes>"
      ]
     },
     "metadata": {
      "needs_background": "light"
     },
     "output_type": "display_data"
    }
   ],
   "source": [
    "fig = plt.figure(figsize=plt.figaspect(0.3))\n",
    "ax = fig.add_subplot(1, 2, 2)\n",
    "x = np.arange(-6, 6, 0.01)\n",
    "f = Relu(x)\n",
    "ax.plot(x, f)\n",
    "f_prime = relu_gradient(x)\n",
    "ax.plot(x, f_prime)\n",
    "ax.set_title(\"ReLU and Gradient of ReLU\")\n",
    "ax.set_xlabel('x')\n",
    "ax.set_ylabel('g')"
   ]
  },
  {
   "cell_type": "code",
   "execution_count": 45,
   "metadata": {},
   "outputs": [],
   "source": [
    "# 设置学习率\n",
    "learning_rate = 1e-6\n",
    "\n",
    "# 定义损失函数\n",
    "def MSE_loss(y, y_hat):\n",
    "    \"\"\" 这里写你的代码 \"\"\"\n",
    "    return 1/(2*len(y_hat))*np.sum((y_hat - y)**2)\n",
    "\n",
    "# 定义线性回归函数\n",
    "def Linear(X, W, b):\n",
    "    \"\"\" 这里写你的代码 \"\"\"\n",
    "    return X@W + b"
   ]
  },
  {
   "cell_type": "code",
   "execution_count": 46,
   "metadata": {},
   "outputs": [
    {
     "name": "stdout",
     "output_type": "stream",
     "text": [
      "epoch: 100, loss: 310.0649962723969\n",
      "epoch: 200, loss: 266.07780207486246\n",
      "epoch: 300, loss: 231.08572372010767\n",
      "epoch: 400, loss: 202.6877400824396\n",
      "epoch: 500, loss: 179.3966867969716\n",
      "epoch: 600, loss: 160.2186142152388\n",
      "epoch: 700, loss: 144.48804455322835\n",
      "epoch: 800, loss: 131.59220757260417\n",
      "epoch: 900, loss: 120.99421858117664\n",
      "epoch: 1000, loss: 112.30080408501898\n",
      "epoch: 1100, loss: 105.1320210776438\n",
      "epoch: 1200, loss: 99.04519471571244\n",
      "epoch: 1300, loss: 93.8219375185788\n",
      "epoch: 1400, loss: 89.25911502010223\n",
      "epoch: 1500, loss: 85.20672567186676\n",
      "epoch: 1600, loss: 81.54096746989006\n",
      "epoch: 1700, loss: 78.16315436543117\n",
      "epoch: 1800, loss: 74.99935950784278\n",
      "epoch: 1900, loss: 72.0289320443457\n",
      "epoch: 2000, loss: 69.19967104876675\n",
      "epoch: 2100, loss: 66.51607075406635\n",
      "epoch: 2200, loss: 63.973236543634314\n",
      "epoch: 2300, loss: 61.5385739979319\n",
      "epoch: 2400, loss: 59.209749175344605\n",
      "epoch: 2500, loss: 56.98998525612846\n",
      "epoch: 2600, loss: 54.86777926065312\n",
      "epoch: 2700, loss: 52.830395176723385\n",
      "epoch: 2800, loss: 50.884902094183396\n",
      "epoch: 2900, loss: 49.03227749767697\n",
      "epoch: 3000, loss: 47.26526296358677\n",
      "epoch: 3100, loss: 45.58241948790785\n",
      "epoch: 3200, loss: 43.97542360378414\n",
      "epoch: 3300, loss: 42.444216529045384\n",
      "epoch: 3400, loss: 40.98043164355882\n",
      "epoch: 3500, loss: 39.58081031120794\n",
      "epoch: 3600, loss: 38.25152332929162\n",
      "epoch: 3700, loss: 36.97775939071645\n",
      "epoch: 3800, loss: 35.75568380302649\n",
      "epoch: 3900, loss: 34.58956958404944\n",
      "epoch: 4000, loss: 33.4791935315771\n",
      "epoch: 4100, loss: 32.418734441019524\n",
      "epoch: 4200, loss: 31.39876000529644\n",
      "epoch: 4300, loss: 30.439912884632875\n",
      "epoch: 4400, loss: 29.53082074075228\n",
      "epoch: 4500, loss: 28.671071259624583\n",
      "epoch: 4600, loss: 27.856982257885225\n",
      "epoch: 4700, loss: 27.086067727473313\n",
      "epoch: 4800, loss: 26.357611633494784\n",
      "epoch: 4900, loss: 25.668293297761533\n",
      "epoch: 5000, loss: 25.015524547161966\n",
      "w1=[[ 1.55139008 -0.05269568  1.00496179  2.07473948  1.80262042 -1.19777215\n",
      "   0.52720604 -0.37536502 -0.32786336  0.41224306]\n",
      " [-0.22339385  0.66963805  0.77943873 -0.01457618  0.42588803 -0.28681022\n",
      "   0.89766486 -0.30515045 -0.12204258 -0.75932189]\n",
      " [-2.63961308  0.3946894   0.87215947 -0.69815709  2.26108958 -1.7347557\n",
      "  -0.38366786 -0.04669359  1.55530897  1.32322708]\n",
      " [ 0.07530318  0.29491568 -0.86528768 -2.05018257 -0.35440966 -0.00304362\n",
      "   1.28813745  1.23412827 -0.47581758 -0.30542237]\n",
      " [-1.07783292 -1.44838124 -1.66980206  1.99133491 -0.53165874 -0.5712382\n",
      "  -1.42335455  0.94743373 -1.73222986 -0.29931624]\n",
      " [-0.87540967  1.22868137 -0.50918585 -1.30157819 -0.02774559  0.74297054\n",
      "   0.79845687  0.36059922 -0.79910173 -0.27447988]\n",
      " [-0.53145344  0.08210266 -0.79641617 -1.65728039  0.16994163 -0.15103357\n",
      "  -1.55055957  0.71365946 -0.77266542 -0.06987055]\n",
      " [ 0.62892526 -0.32944372  1.10541402 -1.33739166  0.40915689 -0.96399516\n",
      "  -1.12523631 -0.79073769 -0.40095599  0.17615952]\n",
      " [-1.29407244  0.53399088  0.48163256 -1.61919945  1.44809238  1.81456616\n",
      "   0.80375372 -0.22861575 -1.32812158  0.95710613]\n",
      " [-0.58127799  0.68809055  0.23086554  0.90568159  0.3198193   0.47975166\n",
      "  -0.58154587  1.79400185 -0.14344129  0.29655687]\n",
      " [ 1.8737706  -2.22815018 -1.23264911  1.00023013 -1.18011618  2.07810526\n",
      "  -0.97349019 -1.02141596  2.06760121  1.3231066 ]\n",
      " [ 1.92400354  1.19541722 -0.82888923  1.93145573 -0.26426932  0.85053104\n",
      "   1.22031684 -0.26183963  0.68460972  1.00472285]\n",
      " [ 0.34521384 -1.79042939  0.30660309  1.27162605 -0.73629047 -0.6028512\n",
      "  -0.98221145  1.69420583  0.58514215  0.37429578]] \n",
      " w2=[[ 0.85843842]\n",
      " [ 2.20573186]\n",
      " [-0.41047826]\n",
      " [ 0.41297944]\n",
      " [ 0.27303505]\n",
      " [ 1.95382741]\n",
      " [ 1.51572843]\n",
      " [ 1.14285499]\n",
      " [ 1.48154972]\n",
      " [-0.33991596]]\n",
      "b1=[[ 0.13202667  1.05322122 -0.07849598  0.25522037 -0.03315959  0.90798712\n",
      "   0.80180048  0.32059781  0.47691375 -0.19431926]] \n",
      " b2=[[1.2216825]]\n"
     ]
    }
   ],
   "source": [
    "\n",
    "# 5000次迭代\n",
    "for t in range(5000):\n",
    "# for t in range(1):\n",
    "    # 前向传播，计算预测值y (Linear->Relu->Linear)\n",
    "    \"\"\" 这里写你的代码 \"\"\"\n",
    "    Z1 = Linear(X_, w1, b1)\n",
    "    A1 = Relu(Z1)\n",
    "    Z2 = Linear(A1, w2, b2)\n",
    "    A2 = Z2\n",
    "    \n",
    "    # 计算损失函数, 并输出每100次epoch的loss\n",
    "    \"\"\" 这里写你的代码 \"\"\"\n",
    "    if (t+1) % 100 == 0:\n",
    "        print('epoch: {}, loss: {}'.format(t+1 ,MSE_loss(y, A2)))\n",
    "\n",
    "    # 反向传播，基于loss 计算w1和w2的梯度\n",
    "    \"\"\" 这里写你的代码 \"\"\"    \n",
    "    dZ2 = A2 - y\n",
    "    dW2 = 1/n_features *A1.T @ dZ2   \n",
    "    dB2 = 1/n_features * np.sum(dZ2, axis = 0, keepdims = True )\n",
    "    \n",
    "    dZ1 = dZ2 @ w2.T * relu_gradient(Z1)\n",
    "    dW1 = 1/n_features * X_.T @ dZ1\n",
    "    dB1 = 1/n_features * np.sum(dZ1, axis = 0, keepdims = True )\n",
    "\n",
    "    # 更新权重, 对w1, w2, b1, b2进行更新\n",
    "    \"\"\" 这里写你的代码 \"\"\"    \n",
    "    w2 = w2 - learning_rate* dW2\n",
    "    b2 = b2 - learning_rate * dB2\n",
    "    w1 = w1 - learning_rate * dW1\n",
    "    b1 = b1 - learning_rate * dB1\n",
    "\n",
    "\n",
    "# 得到最终的w1, w2\n",
    "print('w1={} \\n w2={}'.format(w1, w2))\n",
    "print('b1={} \\n b2={}'.format(b1, b2))"
   ]
  },
  {
   "cell_type": "code",
   "execution_count": 47,
   "metadata": {},
   "outputs": [
    {
     "name": "stdout",
     "output_type": "stream",
     "text": [
      "test loss 14.608358966817914\n"
     ]
    }
   ],
   "source": [
    "\n",
    "test_Z1 =  X_test @ w1 + b1\n",
    "test_A1 = Relu(test_Z1)\n",
    "test_y_hat = test_A1 @ w2 + b2\n",
    "\n",
    "\n",
    "# 用test集来验证\n",
    "print('test loss',MSE_loss(y_test, test_y_hat))"
   ]
  },
  {
   "cell_type": "code",
   "execution_count": null,
   "metadata": {},
   "outputs": [],
   "source": []
  }
 ],
 "metadata": {
  "kernelspec": {
   "display_name": "Python 3",
   "language": "python",
   "name": "python3"
  },
  "language_info": {
   "codemirror_mode": {
    "name": "ipython",
    "version": 3
   },
   "file_extension": ".py",
   "mimetype": "text/x-python",
   "name": "python",
   "nbconvert_exporter": "python",
   "pygments_lexer": "ipython3",
   "version": "3.7.4"
  }
 },
 "nbformat": 4,
 "nbformat_minor": 2
}
